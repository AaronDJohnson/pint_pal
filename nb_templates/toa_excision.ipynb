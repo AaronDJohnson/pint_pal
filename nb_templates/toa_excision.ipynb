{
 "cells": [
  {
   "cell_type": "markdown",
   "metadata": {},
   "source": [
    "Since the notebook server was updated, the following commands need to be run in a terminal before proceeding:\n",
    "```\n",
    "> conda install -c conda-forge scikit-sparse && \\\n",
    "TEMPO2_PREFIX='/opt/nanograv' pip install libstempo[astropy] --upgrade\n",
    "> pip install git+https://github.com/nanograv/enterprise.git --upgrade --user\n",
    "> pip install git+https://github.com/nanograv/enterprise_extensions.git --upgrade --user\n",
    "> pip install numdifftools\n",
    "```\n",
    "Also note: if you have existing pickled tim files in your working directory, remove them before running the notebook, otherwise you're likely to run into an issue with `alias_translation`. This may get simpler with more version tagging and when the docker container is rebuilt, but here we are. Don't forget to restart the kernel before proceeding."
   ]
  },
  {
   "cell_type": "code",
   "execution_count": null,
   "metadata": {},
   "outputs": [],
   "source": [
    "from timing_analysis.lite_utils import *\n",
    "from timing_analysis.par_checker import *\n",
    "from timing_analysis.utils import *\n",
    "from timing_analysis.dmx_utils import *\n",
    "from timing_analysis.timingconfiguration import TimingConfiguration\n",
    "from timing_analysis.outlier_utils import *\n",
    "from timing_analysis.utils import apply_cut_flag, apply_cut_select\n",
    "import yaml\n",
    "from astropy import log\n",
    "import pint.fitter\n",
    "from pint.utils import dmxparse\n",
    "import os\n",
    "\n",
    "# For manual inspection:\n",
    "from ipywidgets import *\n",
    "from IPython.display import Image, display"
   ]
  },
  {
   "cell_type": "code",
   "execution_count": null,
   "metadata": {},
   "outputs": [],
   "source": [
    "#config = \"configs/[psr_name].[nb or wb].yaml\"  # fill in actual path\n",
    "config = \"configs/J0740+6620.nb.yaml\"\n",
    "par_directory = None   # default location\n",
    "tim_directory = None   # default location\n",
    "tc = TimingConfiguration(config, par_directory=par_directory, tim_directory=tim_directory)\n",
    "using_wideband = tc.get_toa_type() == 'WB'\n",
    "\n",
    "# For manual inspection:\n",
    "epoch_matches, toa_matches = tc.get_investigation_files()"
   ]
  },
  {
   "cell_type": "code",
   "execution_count": null,
   "metadata": {},
   "outputs": [],
   "source": [
    "run_outlier_analysis = False\n",
    "run_epochalyptica = False\n",
    "use_outlier_results = True\n",
    "\n",
    "if run_outlier_analysis:\n",
    "    mo,to = tc.get_model_and_toas(apply_initial_cuts=True)\n",
    "    to = setup_dmx(mo,to,frequency_ratio=tc.get_fratio(),max_delta_t=tc.get_sw_delay())\n",
    "    tc.check_outlier()\n",
    "\n",
    "    calculate_pout(mo, to, tc)\n",
    "    make_pout_cuts(mo, to, tc)\n",
    "    if run_epochalyptica: epochalyptica(mo,to,tc)\n",
    "\n",
    "if use_outlier_results:\n",
    "    tc.config['toas'] = find_excise_file(tc.get_outfile_basename())\n",
    "    if tc.config['toas']:\n",
    "        tc.tim_directory = ''\n",
    "        mo,to = tc.get_model_and_toas(excised=True)\n",
    "        to = setup_dmx(mo,to,frequency_ratio=tc.get_fratio(),max_delta_t=tc.get_sw_delay())"
   ]
  },
  {
   "cell_type": "code",
   "execution_count": null,
   "metadata": {},
   "outputs": [],
   "source": [
    "# Quick breakdown of existing cut flags\n",
    "cuts_dict = cut_summary(to)"
   ]
  },
  {
   "cell_type": "code",
   "execution_count": null,
   "metadata": {},
   "outputs": [],
   "source": [
    "# Plot automated cuts for inspection\n",
    "from timing_analysis.plot_utils import *\n",
    "fo = tc.construct_fitter(to,mo)\n",
    "plot_residuals_time(fo, restype='prefit')"
   ]
  },
  {
   "cell_type": "code",
   "execution_count": null,
   "metadata": {},
   "outputs": [],
   "source": [
    "# Apply manual cuts and check for redundancies\n",
    "tc.manual_cuts(to)"
   ]
  },
  {
   "cell_type": "code",
   "execution_count": null,
   "metadata": {},
   "outputs": [],
   "source": [
    "# For manual inspection:\n",
    "# DISPLAY CHECKBOXES\n",
    "# Running display_excise_dropdowns (as below) will cause dropdowns for each bad-epoch \n",
    "# and bad-toa of interest to be displayed. You should choose whatever combinations of \n",
    "# file and plot type you'd like to make, then run the cell after this one (containing \n",
    "# the read_excise_dropdowns functions) to read in your choices. The optional arguments\n",
    "# all_YFp and all_GTpd will default the checkboxes to those plot types. If not specified,\n",
    "# the default will be 'None' (i.e. do not plot). Finally, the make_detective_plots \n",
    "# function (next cell) will display your plots.\n",
    "\n",
    "epoch_select_list, epoch_pav_list, toa_select_list, toa_pav_list = \\\n",
    "    display_excise_dropdowns(epoch_matches, toa_matches, all_YFp=False, all_GTpd=False)"
   ]
  },
  {
   "cell_type": "code",
   "execution_count": null,
   "metadata": {},
   "outputs": [],
   "source": [
    "# For manual inspection:\n",
    "# READ DROPDOWNS AND DISPLAY PLOTS\n",
    "# As described in the cell above, this block will read your choices from the above \n",
    "# dropdowns and make plots. Bad epochs and bad toas are dealt with separately to \n",
    "# allow for future use of the bad-toa subint/subband info.\n",
    "\n",
    "epoch_plot_list = read_excise_dropdowns(epoch_select_list, epoch_pav_list, epoch_matches)\n",
    "toa_plot_list = read_excise_dropdowns(toa_select_list, toa_pav_list, toa_matches)\n",
    "make_detective_plots(epoch_plot_list, epoch_matches)\n",
    "make_detective_plots(toa_plot_list, toa_matches)"
   ]
  }
 ],
 "metadata": {
  "kernelspec": {
   "display_name": "Python 3",
   "language": "python",
   "name": "python3"
  },
  "language_info": {
   "codemirror_mode": {
    "name": "ipython",
    "version": 3
   },
   "file_extension": ".py",
   "mimetype": "text/x-python",
   "name": "python",
   "nbconvert_exporter": "python",
   "pygments_lexer": "ipython3",
   "version": "3.8.8"
  }
 },
 "nbformat": 4,
 "nbformat_minor": 2
}

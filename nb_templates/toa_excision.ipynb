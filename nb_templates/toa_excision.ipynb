{
 "cells": [
  {
   "cell_type": "code",
   "execution_count": null,
   "metadata": {},
   "outputs": [],
   "source": [
    "from timing_analysis.lite_utils import *\n",
    "from timing_analysis.par_checker import *\n",
    "from timing_analysis.utils import *\n",
    "from timing_analysis.dmx_utils import *\n",
    "from timing_analysis.timingconfiguration import TimingConfiguration\n",
    "from timing_analysis.outlier_utils import epochalyptica, calculate_pout\n",
    "from timing_analysis.utils import apply_cut_flag, apply_cut_select\n",
    "import yaml\n",
    "from astropy import log\n",
    "import pint.fitter\n",
    "from pint.utils import dmxparse\n",
    "import os"
   ]
  },
  {
   "cell_type": "code",
   "execution_count": null,
   "metadata": {},
   "outputs": [],
   "source": [
    "config = \"configs/[psr_name].[nb or wb].yaml\"  # fill in actual path\n",
    "par_directory = None   # default location\n",
    "tim_directory = None   # default location\n",
    "tc = TimingConfiguration(config, par_directory=par_directory, tim_directory=tim_directory)\n",
    "\n",
    "using_wideband = tc.get_toa_type() == 'WB'\n",
    "mo,to = tc.get_model_and_toas(apply_initial_cuts=True)\n",
    "to = setup_dmx(mo,to,frequency_ratio=tc.get_fratio(),max_delta_t=tc.get_sw_delay())"
   ]
  },
  {
   "cell_type": "code",
   "execution_count": null,
   "metadata": {},
   "outputs": [],
   "source": [
    "run_outlier_analysis = True\n",
    "use_outlier_results = False\n",
    "\n",
    "if run_outlier_analysis:\n",
    "    calculate_pout(mo, to, file_base=tc.get_outfile_basename(), results_dir='outlier', method='gibbs', Nsamples=10000)\n",
    "\n",
    "if use_outlier_results:\n",
    "    pass\n",
    "    # Deal with this later"
   ]
  },
  {
   "cell_type": "code",
   "execution_count": null,
   "metadata": {},
   "outputs": [],
   "source": [
    "# Re-introduce cut TOAs for writing tim files that include -cut/-pout flags\n",
    "to.table = to.orig_table\n",
    "fo = tc.construct_fitter(to,mo)\n",
    "write_tim(fo,toatype=tc.get_toa_type(),outfile=f'{tc.get_outfile_basename()}_out.tim')"
   ]
  }
 ],
 "metadata": {
  "kernelspec": {
   "display_name": "Python 3",
   "language": "python",
   "name": "python3"
  },
  "language_info": {
   "codemirror_mode": {
    "name": "ipython",
    "version": 3
   },
   "file_extension": ".py",
   "mimetype": "text/x-python",
   "name": "python",
   "nbconvert_exporter": "python",
   "pygments_lexer": "ipython3",
   "version": "3.7.6"
  }
 },
 "nbformat": 4,
 "nbformat_minor": 2
}

{
 "cells": [
  {
   "cell_type": "markdown",
   "metadata": {},
   "source": [
    "# \\[set-up\\], imports\n",
    "See README for more details about installing necessary packages and setting up your environment."
   ]
  },
  {
   "cell_type": "code",
   "execution_count": null,
   "metadata": {},
   "outputs": [],
   "source": [
    "# This shouldn't really be necessary but it just makes it easier to work wherever\n",
    "import os\n",
    "import sys\n",
    "sys.path.append('/Users/dgood/pint_pal/src') "
   ]
  },
  {
   "cell_type": "code",
   "execution_count": 2,
   "metadata": {},
   "outputs": [
    {
     "data": {
      "text/plain": [
       "1"
      ]
     },
     "execution_count": 2,
     "metadata": {},
     "output_type": "execute_result"
    }
   ],
   "source": [
    "import pint_pal as pp\n",
    "#import pint_pal.par_checker as pc\n",
    "import pint_pal.lite_utils as lu\n",
    "import pint_pal.plot_utils as pu\n",
    "from pint_pal.timingconfiguration import TimingConfiguration\n",
    "from pint_pal.ftester import run_Ftests\n",
    "from astropy import log\n",
    "from pint.fitter import ConvergenceFailure\n",
    "import pint.fitter\n",
    "import os\n",
    "import copy\n",
    "from astropy.visualization import quantity_support\n",
    "quantity_support()\n",
    "\n",
    "# notebook gives interactive plots but not until the kernel is done\n",
    "%matplotlib notebook\n",
    "# inline gives non-interactive plots right away\n",
    "#%matplotlib inline\n",
    "\n",
    "# Set logging level (PINT uses loguru)\n",
    "log.setLevel(\"INFO\") # Set desired verbosity of log statements (DEBUG/INFO/WARNING/ERROR)\n",
    "pint.logging.setup(level=\"WARNING\", usecolors=True)"
   ]
  },
  {
   "cell_type": "markdown",
   "metadata": {},
   "source": [
    "# Pre or Post Noise solution?"
   ]
  },
  {
   "cell_type": "code",
   "execution_count": null,
   "metadata": {},
   "outputs": [],
   "source": [
    "hasnoise = False\n",
    "if hasnoise == False:\n",
    "    ext = '_prenoise'\n",
    "else:\n",
    "    ext = '_postnoise'"
   ]
  },
  {
   "cell_type": "code",
   "execution_count": null,
   "metadata": {},
   "outputs": [],
   "source": []
  },
  {
   "cell_type": "markdown",
   "metadata": {},
   "source": [
    "# Load/update timing solution\n",
    "\n",
    "Load configuration (`.yaml`) file, get TOAs and timing model; if you're running from the root of the git distribution, simply edit the `.yaml` file name, otherwise include relevant paths to the `.yaml` file, and `.par`/`.tim` directories as kwargs (see commented example)."
   ]
  },
  {
   "cell_type": "code",
   "execution_count": null,
   "metadata": {},
   "outputs": [],
   "source": [
    "config = \"configs/[psr_name].[nb or wb].yaml\"  # fill in actual path\n",
    "par_directory = None   # default location\n",
    "tim_directory = None   # default location\n",
    "tc = TimingConfiguration(config, par_directory=par_directory, tim_directory=tim_directory)\n",
    "\n",
    "# To combine TOAs, assumption is that cuts have already been applied properly\n",
    "mo,to = tc.get_model_and_toas(apply_initial_cuts=False,usepickle=False)\n",
    "\n",
    "# Uncomment this line to manually excise TOAs.\n",
    "#tc.manual_cuts(to)\n",
    "\n",
    "# Computing pulse numbers ensures param changes in the model will not break phase connection\n",
    "to.compute_pulse_numbers(mo)\n",
    "\n",
    "# Set non-binary epochs to the center of the data span\n",
    "lu.center_epochs(mo,to)\n",
    "\n",
    "# Summarize TOAs present\n",
    "to.print_summary()"
   ]
  },
  {
   "cell_type": "code",
   "execution_count": null,
   "metadata": {},
   "outputs": [],
   "source": [
    "# Define the fitter object and plot pre-fit residuals\n",
    "fo = tc.construct_fitter(to,mo)\n",
    "pu.plot_residuals_time(fo, restype='prefit', legend=False)\n",
    "if mo.is_binary:\n",
    "    pu.plot_residuals_orb(fo, restype='prefit', legend=False)"
   ]
  },
  {
   "cell_type": "code",
   "execution_count": null,
   "metadata": {},
   "outputs": [],
   "source": [
    "# Set free params based on list in the config file (want to update JUMP handling differently soon)\n",
    "fo.model.free_params = tc.get_free_params(fo)\n",
    "\n",
    "# Do the fit\n",
    "try:\n",
    "    fo.fit_toas(maxiter=tc.get_niter())\n",
    "    fo.model.CHI2.value = fo.resids.chi2\n",
    "except ConvergenceFailure:\n",
    "    run_Ftest = False\n",
    "    log.warning('Failed to converge; moving on with best result, but should address before final version.')"
   ]
  },
  {
   "cell_type": "code",
   "execution_count": null,
   "metadata": {},
   "outputs": [],
   "source": [
    "# Plot post-fit residuals, print summary of results, write prenoise solution\n",
    "pu.plot_residuals_time(fo, restype='postfit', legend=False)\n",
    "if mo.is_binary:\n",
    "    pu.plot_residuals_orb(fo, restype='postfit', legend=False)\n",
    "    \n",
    "pu.plot_residuals_freq(fo, restype='postfit', legend=False)\n",
    "\n",
    "    \n",
    "fo.print_summary()\n",
    "lu.check_convergence(fo)\n",
    "\n",
    "lu.write_par(fo,toatype=tc.get_toa_type(),addext=ext,include_date=True)"
   ]
  },
  {
   "cell_type": "code",
   "execution_count": 1,
   "metadata": {},
   "outputs": [
    {
     "ename": "SyntaxError",
     "evalue": "'continue' not properly in loop (1944732518.py, line 7)",
     "output_type": "error",
     "traceback": [
      "\u001b[0;36m  Cell \u001b[0;32mIn[1], line 7\u001b[0;36m\u001b[0m\n\u001b[0;31m    continue\u001b[0m\n\u001b[0m    ^\u001b[0m\n\u001b[0;31mSyntaxError\u001b[0m\u001b[0;31m:\u001b[0m 'continue' not properly in loop\n"
     ]
    }
   ],
   "source": [
    "# Look at the whitened residuals as well\n",
    "if hasnoise == True:\n",
    "    pu.plot_residuals_time(fo, restype='postfit', whitened=True, avg=True, mixed_ecorr=True, legend=True)\n",
    "    if mo.is_binary:\n",
    "        pu.plot_residuals_orb(fo, restype='postfit', whitened=True, avg=True, mixed_ecorr=True, legend=True)"
   ]
  },
  {
   "cell_type": "markdown",
   "metadata": {},
   "source": [
    "# Compare to one other model"
   ]
  },
  {
   "cell_type": "markdown",
   "metadata": {},
   "source": [
    "You can use this cell to quickly check if/which any parameters have changed by more than 3 sigma (number of sigma is tunable). \n",
    "\n",
    "Best use case: compare to a pre-noise model or a previous run. I'm working on a more comprehensive comparison notebook for things like combined vs. individual PTA."
   ]
  },
  {
   "cell_type": "code",
   "execution_count": null,
   "metadata": {},
   "outputs": [],
   "source": [
    "compmodel = lu.compare_models(fo,\n",
    "               model_to_compare=tc.get_compare_model(),\n",
    "               verbosity='min',\n",
    "               nodmx=True,\n",
    "               threshold_sigma=3.)"
   ]
  },
  {
   "cell_type": "markdown",
   "metadata": {},
   "source": [
    "# Check for additional significant parameters (F-test)"
   ]
  },
  {
   "cell_type": "markdown",
   "metadata": {},
   "source": [
    "This is not likely to be meaningful without noise parameters and it's time consuming -- so we really don't recommend running it until you have some noise parameters. Without that info, it'll be pretty meaningless. "
   ]
  },
  {
   "cell_type": "code",
   "execution_count": 3,
   "metadata": {},
   "outputs": [],
   "source": [
    "\n",
    "run_Ftest = False\n",
    "Ftest_dict = None\n",
    "if run_Ftest:\n",
    "    savedLevel = log.getEffectiveLevel()\n",
    "    try:\n",
    "        log.setLevel(\"WARNING\")\n",
    "        Ftest_dict = run_Ftests(fo, \n",
    "                                alpha=0.0027, \n",
    "                                NITS=tc.get_niter())\n",
    "    finally:\n",
    "        log.setLevel(savedLevel)\n",
    "\n"
   ]
  },
  {
   "cell_type": "markdown",
   "metadata": {},
   "source": [
    "# \\[changelog\\] entries\n",
    "\n",
    "New changelog entries in the `.yaml` file should follow a specific format and are only added for specified reasons (excising TOAs, adding/removing params, changing binary models, etc.). For more detailed instructions, run `lu.new_changelog_entry?` in a new cell. This function can be used to format your entry, which should be added to the bottom of the appropriate `.yaml` file. Note: make sure your git `user.email` is properly configured, since this field is used to add your name to the entry."
   ]
  },
  {
   "cell_type": "code",
   "execution_count": null,
   "metadata": {},
   "outputs": [],
   "source": [
    "lu.new_changelog_entry?"
   ]
  },
  {
   "cell_type": "code",
   "execution_count": null,
   "metadata": {},
   "outputs": [],
   "source": []
  }
 ],
 "metadata": {
  "kernelspec": {
   "display_name": "Python 3 (ipykernel)",
   "language": "python",
   "name": "python3"
  },
  "language_info": {
   "codemirror_mode": {
    "name": "ipython",
    "version": 3
   },
   "file_extension": ".py",
   "mimetype": "text/x-python",
   "name": "python",
   "nbconvert_exporter": "python",
   "pygments_lexer": "ipython3",
   "version": "3.10.5"
  }
 },
 "nbformat": 4,
 "nbformat_minor": 2
}

{
 "cells": [
  {
   "cell_type": "code",
   "execution_count": null,
   "metadata": {},
   "outputs": [],
   "source": [
    "import numpy as np\n",
    "import matplotlib.pyplot as plt\n",
    "import timing_analysis.lite_utils as lu\n",
    "from timing_analysis.utils import check_recentness_noise\n",
    "from timing_analysis.timingconfiguration import TimingConfiguration\n",
    "from timing_analysis.plot_utils import plot_dmxout, plot_dmx_diffs_nbwb\n",
    "import timing_analysis.report\n",
    "from astropy import log\n",
    "import glob\n",
    "import os\n",
    "from astropy.visualization import quantity_support\n",
    "quantity_support()\n",
    "\n",
    "# notebook gives interactive plots but not until the kernel is done\n",
    "#%matplotlib notebook\n",
    "# inline gives non-interactive plots right away\n",
    "#%matplotlib inline"
   ]
  },
  {
   "cell_type": "code",
   "execution_count": null,
   "metadata": {},
   "outputs": [],
   "source": [
    "# read in config files \n",
    "source = \"[psr_name]\"\n",
    "\n",
    "nb_config = f\"configs/{source}.nb.yaml\"\n",
    "wb_config = f\"configs/{source}.wb.yaml\"\n",
    "nb_tc, wb_tc = TimingConfiguration(nb_config), TimingConfiguration(wb_config)\n",
    "report = timing_analysis.report.Report(\n",
    "    title=f\"{source} NB-WB comparison\", \n",
    "    sections=[\"Summary\",\"DMX\",\"Comparison\",\"Warnings\"])\n",
    "report.begin_capturing_log(\"Warnings\")\n",
    "report.add_markdown(\"Summary\", nb_tc.get_summary())\n",
    "report.add_markdown(\"Summary\", wb_tc.get_summary())"
   ]
  },
  {
   "cell_type": "code",
   "execution_count": null,
   "metadata": {},
   "outputs": [],
   "source": [
    "# get nb model, toas, construct fitter\n",
    "nb_mo,nb_to = nb_tc.get_model_and_toas(excised=True)\n",
    "if not nb_to: nb_mo,nb_to = nb_tc.get_model_and_toas(apply_initial_cuts=True)\n",
    "nb_tc.manual_cuts(nb_to)\n",
    "nb_fo = nb_tc.construct_fitter(nb_to,nb_mo)"
   ]
  },
  {
   "cell_type": "code",
   "execution_count": null,
   "metadata": {},
   "outputs": [],
   "source": [
    "# get wb model, toas, construct fitter\n",
    "wb_mo,wb_to = wb_tc.get_model_and_toas(excised=True)\n",
    "if not wb_to: wb_mo,wb_to = wb_tc.get_model_and_toas(apply_initial_cuts=True)\n",
    "wb_tc.manual_cuts(wb_to)\n",
    "wb_fo = wb_tc.construct_fitter(wb_to,wb_mo)"
   ]
  },
  {
   "cell_type": "code",
   "execution_count": null,
   "metadata": {},
   "outputs": [],
   "source": [
    "plot_12p5_dmx = False\n",
    "\n",
    "# get latest noise directories, dmxparse.?b.out files\n",
    "nb_noise, nb_noise_list = check_recentness_noise(nb_tc)\n",
    "wb_noise, wb_noise_list = check_recentness_noise(wb_tc)\n",
    "nb_latest_noise, wb_latest_noise = nb_noise_list[-1], wb_noise_list[-1]\n",
    "\n",
    "intermediate_dir = \"/nanograv/share/15yr/timing/intermediate\"\n",
    "nb_dmxout = os.path.join(intermediate_dir,nb_latest_noise,\"temp_files\",f\"{source}_dmxparse.nb.out\")\n",
    "wb_dmxout = os.path.join(intermediate_dir,wb_latest_noise,\"temp_files\",f\"{source}_dmxparse.wb.out\")\n",
    "\n",
    "# look for 12.5 dmxout results, if desired\n",
    "if plot_12p5_dmx:\n",
    "    dmxout_12p5_dir = \"/nanograv/share/15yr/timing/intermediate/dmxout_12p5/\"\n",
    "    dmxout_12p5 = glob.glob(os.path.join(dmxout_12p5_dir,f\"{source}*.dmx\"))\n",
    "else:\n",
    "    dmxout_12p5 = None"
   ]
  },
  {
   "cell_type": "code",
   "execution_count": null,
   "metadata": {},
   "outputs": [],
   "source": [
    "# produce nb/wb dmx timeseries comparison (include excess dm due to solar wind model)\n",
    "if dmxout_12p5:\n",
    "    dmxDict = plot_dmxout([nb_dmxout,wb_dmxout,dmxout_12p5[0]],['nb','wb','12p5'], \n",
    "                          psrname=source, outfile = f\"{source}_nbwb12p5_dmx.png\",\n",
    "                          model=nb_mo)\n",
    "else:\n",
    "    dmxDict = plot_dmxout([nb_dmxout,wb_dmxout],['nb','wb'], psrname=source, \n",
    "                          outfile = f\"{source}_nbwb_dmx.png\", model=nb_mo)\n",
    "report.new_section(\"DMX\")\n",
    "report.add_plot(\"DMX\", caption=\"DMX comparison\")"
   ]
  },
  {
   "cell_type": "code",
   "execution_count": null,
   "metadata": {},
   "outputs": [],
   "source": [
    "# inspect DMX outliers (identify problematic MJDs interactively)\n",
    "dmx_outlier_mjds = [] # put your problem MJDs here!\n",
    "match_files = lu.dmx_mjds_to_files(dmx_outlier_mjds,nb_to,dmxDict)\n",
    "\n",
    "# all_GTpd=True by default to plot phase vs. frequency, but the kwarg/dropdown choices can be modified\n",
    "if match_files:\n",
    "    fsel_list, fpav_list, _tsel, _tpav = lu.display_excise_dropdowns(match_files, [], all_YFp=False, all_GTpd=True)"
   ]
  },
  {
   "cell_type": "code",
   "execution_count": null,
   "metadata": {},
   "outputs": [],
   "source": [
    "# generate desired plots based on drop-down choices\n",
    "if match_files:\n",
    "    file_plot_list = lu.read_excise_dropdowns(fsel_list, fpav_list, match_files)\n",
    "    lu.make_detective_plots(file_plot_list, match_files)"
   ]
  },
  {
   "cell_type": "code",
   "execution_count": null,
   "metadata": {},
   "outputs": [],
   "source": [
    "# plot diffs if coincident nb and wb DMX measurements are available.\n",
    "if ('nb' in dmxDict.keys()) and ('wb' in dmxDict.keys()):\n",
    "    plot_dmx_diffs_nbwb(dmxDict, psrname=source, outfile=f\"{source}_nbwb_dmxdiffs.png\")\n",
    "    report.add_plot(\"DMX\", caption=\"DMX nb-wb diffs\")\n",
    "else:\n",
    "    log.warning(\"Both nb and wb keys are not present in dmxDict; diffs not plotted.\")"
   ]
  },
  {
   "cell_type": "code",
   "execution_count": null,
   "metadata": {},
   "outputs": [],
   "source": [
    "# compare nb/wb models\n",
    "compare_out = lu.compare_models(nb_fo,\n",
    "                   model_to_compare=wb_tc.get_model_path(),\n",
    "                   verbosity='max',\n",
    "                   nodmx=True,\n",
    "                   threshold_sigma=3.)\n",
    "report.new_section(\"Comparison\")\n",
    "report.add_verbatim(\"Comparison\", \"\\n\".join(compare_out))"
   ]
  },
  {
   "cell_type": "code",
   "execution_count": null,
   "metadata": {},
   "outputs": [],
   "source": [
    "report.generate_pdf(f\"{source}_nbwb.pdf\")\n",
    "report.generate_html(f\"{source}_nbwb.html\")"
   ]
  }
 ],
 "metadata": {
  "kernelspec": {
   "display_name": "Python 3 (ipykernel)",
   "language": "python",
   "name": "python3"
  },
  "language_info": {
   "codemirror_mode": {
    "name": "ipython",
    "version": 3
   },
   "file_extension": ".py",
   "mimetype": "text/x-python",
   "name": "python",
   "nbconvert_exporter": "python",
   "pygments_lexer": "ipython3",
   "version": "3.9.5"
  }
 },
 "nbformat": 4,
 "nbformat_minor": 2
}

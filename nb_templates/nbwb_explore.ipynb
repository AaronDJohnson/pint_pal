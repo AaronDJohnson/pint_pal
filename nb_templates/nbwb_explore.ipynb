{
 "cells": [
  {
   "cell_type": "code",
   "execution_count": null,
   "metadata": {},
   "outputs": [],
   "source": [
    "import numpy as np\n",
    "import matplotlib.pyplot as plt\n",
    "from timing_analysis.timingconfiguration import TimingConfiguration\n",
    "from astropy import log\n",
    "import os\n",
    "from astropy.visualization import quantity_support\n",
    "quantity_support()\n",
    "\n",
    "# notebook gives interactive plots but not until the kernel is done\n",
    "#%matplotlib notebook\n",
    "# inline gives non-interactive plots right away\n",
    "#%matplotlib inline"
   ]
  },
  {
   "cell_type": "code",
   "execution_count": null,
   "metadata": {},
   "outputs": [],
   "source": [
    "# read in config files \n",
    "source = \"J1910+1256\"\n",
    "\n",
    "nb_config = f\"configs/{source}.nb.yaml\"\n",
    "wb_config = f\"configs/{source}.wb.yaml\"\n",
    "nb_tc, wb_tc = TimingConfiguration(nb_config), TimingConfiguration(wb_config)"
   ]
  },
  {
   "cell_type": "code",
   "execution_count": null,
   "metadata": {},
   "outputs": [],
   "source": [
    "# get latest noise directories, dmxparse.?b.out files\n",
    "nb_noise, nb_noise_list = check_recentness_noise(nb_tc)\n",
    "wb_noise, wb_noise_list = check_recentness_noise(wb_tc)\n",
    "nb_latest_noise, wb_latest_noise = nb_noise_list[-1], wb_noise_list[-1]\n",
    "\n",
    "intermediate_dir = \"/nanograv/share/15yr/timing/intermediate\"\n",
    "nb_dmxout = os.path.join(intermediate_dir,nb_latest_noise,\"temp_files\",f\"{source}_dmxparse.nb.out\")\n",
    "wb_dmxout = os.path.join(intermediate_dir,wb_latest_noise,\"temp_files\",f\"{source}_dmxparse.wb.out\")"
   ]
  },
  {
   "cell_type": "code",
   "execution_count": null,
   "metadata": {},
   "outputs": [],
   "source": [
    "# load/plot if files exist\n",
    "nb_dmxep, nb_dmxval, nb_dmxval_err, nb_dmxr1, nb_dmxr2 = np.loadtxt(nb_dmxout, unpack=True, usecols=range(0,5))\n",
    "wb_dmxep, wb_dmxval, wb_dmxval_err, wb_dmxr1, wb_dmxr2 = np.loadtxt(wb_dmxout, unpack=True, usecols=range(0,5))"
   ]
  },
  {
   "cell_type": "code",
   "execution_count": null,
   "metadata": {},
   "outputs": [],
   "source": [
    "# basic plot\n",
    "plt.errorbar(nb_dmxep,nb_dmxval,yerr=nb_dmxval_err,marker='o',ls='', alpha=0.5, markerfacecolor='none')\n",
    "plt.errorbar(wb_dmxep,wb_dmxval,yerr=wb_dmxval_err,marker='o',ls='', alpha=0.5, markerfacecolor='none')"
   ]
  }
 ],
 "metadata": {
  "kernelspec": {
   "display_name": "Python 3 (ipykernel)",
   "language": "python",
   "name": "python3"
  },
  "language_info": {
   "codemirror_mode": {
    "name": "ipython",
    "version": 3
   },
   "file_extension": ".py",
   "mimetype": "text/x-python",
   "name": "python",
   "nbconvert_exporter": "python",
   "pygments_lexer": "ipython3",
   "version": "3.9.5"
  }
 },
 "nbformat": 4,
 "nbformat_minor": 2
}
